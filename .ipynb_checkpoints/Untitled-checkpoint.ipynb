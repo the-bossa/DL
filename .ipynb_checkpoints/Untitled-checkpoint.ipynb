{
 "cells": [
  {
   "cell_type": "code",
   "execution_count": 1,
   "metadata": {},
   "outputs": [],
   "source": [
    "from keras.preprocessing import image\n",
    "from keras.applications.vgg16 import VGG16, preprocess_input\n",
    "from scipy.stats import pearsonr\n",
    "import numpy as np\n",
    "import sys"
   ]
  },
  {
   "cell_type": "code",
   "execution_count": 2,
   "metadata": {},
   "outputs": [],
   "source": [
    "prima = 'QmaAouWZx4Szy4Qipm1M8iBTiq4DBk1HcCaNzGKGXC5Xws.png'\n",
    "seconda = 'QmaFkStftgA9rW9NyKUFyCKhAvKkENtD1CUfCkzEAWghyr.png'\n",
    "terza = 'QmbeePRffDfetzP4kikva7bkYbuytQJYtejN7wRhcL9Swh.jpeg'\n",
    "\n",
    "lista = [prima, seconda]\n",
    "vgg16_feature_list = []"
   ]
  },
  {
   "cell_type": "code",
   "execution_count": 3,
   "metadata": {},
   "outputs": [],
   "source": [
    "model = VGG16(weights='imagenet', include_top=False)\n",
    "# model.summary()"
   ]
  },
  {
   "cell_type": "code",
   "execution_count": 4,
   "metadata": {},
   "outputs": [],
   "source": [
    "for i in lista:\n",
    "    img_path = i\n",
    "\n",
    "    img = image.load_img(img_path, target_size=(224, 224))\n",
    "    img_data = image.img_to_array(img)\n",
    "    img_data = np.expand_dims(img_data, axis=0)\n",
    "    img_data = preprocess_input(img_data)\n",
    "\n",
    "    vgg16_feature = model.predict(img_data)\n",
    "    vgg16_feature_np = np.array(vgg16_feature)\n",
    "    vgg16_feature_list.append(vgg16_feature_np.flatten())"
   ]
  },
  {
   "cell_type": "code",
   "execution_count": 6,
   "metadata": {},
   "outputs": [],
   "source": [
    "vgg16_feature_list_np = np.array(vgg16_feature_list)\n",
    "np.set_printoptions(threshold=sys.maxsize)\n",
    "# print(vgg16_feature_list_np)\n",
    "# print(vgg16_feature_list_np[0]==vgg16_feature_list_np[1])"
   ]
  },
  {
   "cell_type": "code",
   "execution_count": 7,
   "metadata": {
    "scrolled": true
   },
   "outputs": [
    {
     "name": "stdout",
     "output_type": "stream",
     "text": [
      "(0.5618958037434701, 0.0)\n"
     ]
    }
   ],
   "source": [
    "primo = vgg16_feature_list_np[0]\n",
    "secondo = vgg16_feature_list_np[1]\n",
    "\n",
    "pearson = pearsonr(primo, secondo)\n",
    "print(pearson)"
   ]
  },
  {
   "cell_type": "code",
   "execution_count": 8,
   "metadata": {},
   "outputs": [
    {
     "name": "stdout",
     "output_type": "stream",
     "text": [
      "(1.0, 0.0)\n"
     ]
    }
   ],
   "source": [
    "## test\n",
    "lista1 = [prima, prima]\n",
    "vgg16_feature_list = []\n",
    "\n",
    "for i in lista1:\n",
    "    img_path = i\n",
    "\n",
    "    img = image.load_img(img_path, target_size=(224, 224))\n",
    "    img_data = image.img_to_array(img)\n",
    "    img_data = np.expand_dims(img_data, axis=0)\n",
    "    img_data = preprocess_input(img_data)\n",
    "\n",
    "    vgg16_feature = model.predict(img_data)\n",
    "    vgg16_feature_np = np.array(vgg16_feature)\n",
    "    vgg16_feature_list.append(vgg16_feature_np.flatten())\n",
    "\n",
    "\n",
    "vgg16_feature_list_np = np.array(vgg16_feature_list)\n",
    "# print(vgg16_feature_list_np)\n",
    "\n",
    "primo = vgg16_feature_list_np[0]\n",
    "secondo = vgg16_feature_list_np[1]\n",
    "\n",
    "pearson = pearsonr(primo, secondo)\n",
    "print(pearson)"
   ]
  },
  {
   "cell_type": "code",
   "execution_count": null,
   "metadata": {},
   "outputs": [],
   "source": []
  }
 ],
 "metadata": {
  "kernelspec": {
   "display_name": "Python 3",
   "language": "python",
   "name": "python3"
  },
  "language_info": {
   "codemirror_mode": {
    "name": "ipython",
    "version": 3
   },
   "file_extension": ".py",
   "mimetype": "text/x-python",
   "name": "python",
   "nbconvert_exporter": "python",
   "pygments_lexer": "ipython3",
   "version": "3.6.9"
  }
 },
 "nbformat": 4,
 "nbformat_minor": 4
}
